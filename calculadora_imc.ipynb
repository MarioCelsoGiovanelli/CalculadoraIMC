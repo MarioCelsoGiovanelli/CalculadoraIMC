{
  "nbformat": 4,
  "nbformat_minor": 0,
  "metadata": {
    "colab": {
      "provenance": [],
      "authorship_tag": "ABX9TyNBQd5PzUxhD/Yb26WmB3aP",
      "include_colab_link": true
    },
    "kernelspec": {
      "name": "python3",
      "display_name": "Python 3"
    },
    "language_info": {
      "name": "python"
    }
  },
  "cells": [
    {
      "cell_type": "markdown",
      "metadata": {
        "id": "view-in-github",
        "colab_type": "text"
      },
      "source": [
        "<a href=\"https://colab.research.google.com/github/MarioCelsoGiovanelli/CalculadoraIMC/blob/main/calculadora_imc.ipynb\" target=\"_parent\"><img src=\"https://colab.research.google.com/assets/colab-badge.svg\" alt=\"Open In Colab\"/></a>"
      ]
    },
    {
      "cell_type": "markdown",
      "source": [
        "# Entrada de dados"
      ],
      "metadata": {
        "id": "ASI2z41PGwld"
      }
    },
    {
      "cell_type": "code",
      "source": [
        "nome = input('Digite o seu nome: ')\n",
        "idade = input('Digite a sua idade: ')\n",
        "peso = input('Digite o seu peso (kg): ')\n",
        "altura = input('Digite a sua altura (m): ')"
      ],
      "metadata": {
        "colab": {
          "base_uri": "https://localhost:8080/"
        },
        "id": "pJyWHx_zHLI7",
        "outputId": "97272304-f453-42b6-a53a-d6f1fa316136"
      },
      "execution_count": 51,
      "outputs": [
        {
          "name": "stdout",
          "output_type": "stream",
          "text": [
            "Digite o seu nome: Mario\n",
            "Digite a sua idade: 40\n",
            "Digite o seu peso (kg): 82\n",
            "Digite a sua altura (m): 1.82\n"
          ]
        }
      ]
    },
    {
      "cell_type": "markdown",
      "source": [
        "# Calculando o IMC"
      ],
      "metadata": {
        "id": "wwJ9k4hkIU0_"
      }
    },
    {
      "cell_type": "code",
      "source": [
        "imc = float(peso) / (float(altura) ** 2)"
      ],
      "metadata": {
        "id": "Tp2mdLwQKEKu"
      },
      "execution_count": 52,
      "outputs": []
    },
    {
      "cell_type": "code",
      "source": [
        "print(imc)"
      ],
      "metadata": {
        "colab": {
          "base_uri": "https://localhost:8080/"
        },
        "id": "kxZn5RY8KEhv",
        "outputId": "7f402dfe-81b0-45d2-d51b-30c37f2c1dd7"
      },
      "execution_count": 53,
      "outputs": [
        {
          "output_type": "stream",
          "name": "stdout",
          "text": [
            "24.755464315903875\n"
          ]
        }
      ]
    },
    {
      "cell_type": "code",
      "source": [
        "# Exemplo: int e float antes do input\n",
        "nome = input('Digite o seu nome: ')\n",
        "idade = int(input('Digite a sua idade: '))\n",
        "peso = float(input('Digite o seu peso (kg): '))\n",
        "altura = float(input('Digite a sua altura (m): '))\n",
        "imc = peso / (altura**2)\n",
        "imc"
      ],
      "metadata": {
        "colab": {
          "base_uri": "https://localhost:8080/"
        },
        "id": "uP4vYCoRK80W",
        "outputId": "1f439f15-809e-4a18-c52b-4eadee09f3a8"
      },
      "execution_count": 54,
      "outputs": [
        {
          "name": "stdout",
          "output_type": "stream",
          "text": [
            "Digite o seu nome: Mario\n",
            "Digite a sua idade: 40\n",
            "Digite o seu peso (kg): 82\n",
            "Digite a sua altura (m): 1.82\n"
          ]
        },
        {
          "output_type": "execute_result",
          "data": {
            "text/plain": [
              "24.755464315903875"
            ]
          },
          "metadata": {},
          "execution_count": 54
        }
      ]
    },
    {
      "cell_type": "markdown",
      "source": [
        "## Arrendodar IMC"
      ],
      "metadata": {
        "id": "GJaMolfK5QYZ"
      }
    },
    {
      "cell_type": "code",
      "source": [
        "round(imc)"
      ],
      "metadata": {
        "colab": {
          "base_uri": "https://localhost:8080/"
        },
        "id": "_KsxSxmlQuWN",
        "outputId": "03db9700-fa72-455d-96e8-f1f6b487a925"
      },
      "execution_count": 55,
      "outputs": [
        {
          "output_type": "execute_result",
          "data": {
            "text/plain": [
              "25"
            ]
          },
          "metadata": {},
          "execution_count": 55
        }
      ]
    },
    {
      "cell_type": "markdown",
      "source": [
        "## Arrendodar imc com 2 casas decimais"
      ],
      "metadata": {
        "id": "dzzxddPH5cmg"
      }
    },
    {
      "cell_type": "code",
      "source": [
        "round(imc,2)"
      ],
      "metadata": {
        "colab": {
          "base_uri": "https://localhost:8080/"
        },
        "id": "_XwakRIIQ4c7",
        "outputId": "52594bc0-e343-4ffc-eddb-e85163dae64d"
      },
      "execution_count": 56,
      "outputs": [
        {
          "output_type": "execute_result",
          "data": {
            "text/plain": [
              "24.76"
            ]
          },
          "metadata": {},
          "execution_count": 56
        }
      ]
    },
    {
      "cell_type": "markdown",
      "source": [
        "# Criando o status"
      ],
      "metadata": {
        "id": "XUOvTQQqI0oH"
      }
    },
    {
      "cell_type": "code",
      "source": [
        "status = 'Dentro do peso'\n",
        "if imc < 18.5:\n",
        "  status = 'Magreza'\n",
        "elif imc >= 18.5 and imc < 24.9:\n",
        "  status = 'Normal'\n",
        "elif imc >= 25 and imc < 29.9 :\n",
        "  status = 'Sobrepeso'\n",
        "elif imc >= 30.0 and imc < 39.9:\n",
        "  status = 'Obesidade'\n",
        "elif imc >= 40.0:\n",
        "  status = 'Obesidade Grave'"
      ],
      "metadata": {
        "id": "0Ofh9Oj_I5jj"
      },
      "execution_count": 57,
      "outputs": []
    },
    {
      "cell_type": "code",
      "source": [
        "print(status)"
      ],
      "metadata": {
        "colab": {
          "base_uri": "https://localhost:8080/"
        },
        "id": "CEmtxXQ5I6aX",
        "outputId": "0ad56678-b70d-4501-b4f4-7708075c3764"
      },
      "execution_count": 58,
      "outputs": [
        {
          "output_type": "stream",
          "name": "stdout",
          "text": [
            "Normal\n"
          ]
        }
      ]
    },
    {
      "cell_type": "markdown",
      "source": [
        "# Gerando o PDF\n",
        "## As intalações do Colab são por seções, toda vez que fachar não vai ter esses arquivos"
      ],
      "metadata": {
        "id": "iyHAguOlKozg"
      }
    },
    {
      "cell_type": "code",
      "source": [
        "!pip install pdf_reports"
      ],
      "metadata": {
        "id": "r0mVFqQjKsut"
      },
      "execution_count": 59,
      "outputs": []
    },
    {
      "cell_type": "code",
      "source": [
        "import pdf_reports"
      ],
      "metadata": {
        "id": "zbBzAYUbDZEf"
      },
      "execution_count": 60,
      "outputs": []
    },
    {
      "cell_type": "code",
      "source": [
        "dados_usuario = {\n",
        "    \"nome\": nome,\n",
        "    \"idade\": idade,\n",
        "    \"peso\": peso,\n",
        "    \"altura\": altura,\n",
        "    \"imc\": round(imc, 2),\n",
        "    \"status\": status\n",
        "}"
      ],
      "metadata": {
        "id": "KkgS1IUgDdMu"
      },
      "execution_count": 61,
      "outputs": []
    },
    {
      "cell_type": "code",
      "source": [
        "template = pdf_reports.pug_to_html('template.pug', dados = dados_usuario)"
      ],
      "metadata": {
        "id": "hd5jgwx7D5X2"
      },
      "execution_count": 62,
      "outputs": []
    },
    {
      "cell_type": "code",
      "source": [
        "pdf_reports.write_report(template, \"ficha_calculo.pdf\", use_default_styling=False)"
      ],
      "metadata": {
        "id": "fQMbUWzQE_f-"
      },
      "execution_count": 63,
      "outputs": []
    }
  ]
}