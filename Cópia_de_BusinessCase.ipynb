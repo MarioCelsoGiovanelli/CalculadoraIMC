{
  "nbformat": 4,
  "nbformat_minor": 0,
  "metadata": {
    "colab": {
      "provenance": [],
      "toc_visible": true,
      "authorship_tag": "ABX9TyOydzH/ptXBzVU1sldrdf2J",
      "include_colab_link": true
    },
    "kernelspec": {
      "name": "python3",
      "display_name": "Python 3"
    },
    "language_info": {
      "name": "python"
    }
  },
  "cells": [
    {
      "cell_type": "markdown",
      "metadata": {
        "id": "view-in-github",
        "colab_type": "text"
      },
      "source": [
        "<a href=\"https://colab.research.google.com/github/MarioCelsoGiovanelli/CalculadoraIMC/blob/main/C%C3%B3pia_de_BusinessCase.ipynb\" target=\"_parent\"><img src=\"https://colab.research.google.com/assets/colab-badge.svg\" alt=\"Open In Colab\"/></a>"
      ]
    },
    {
      "cell_type": "markdown",
      "source": [
        "# Entrada de dados"
      ],
      "metadata": {
        "id": "ASI2z41PGwld"
      }
    },
    {
      "cell_type": "code",
      "source": [
        "nome = input('Digite o seu nome: ')\n",
        "idade = input('Digite a sua idade: ')\n",
        "peso = input('Digite o seu peso (kg): ')\n",
        "altura = input('Digite a sua altura (m): ')"
      ],
      "metadata": {
        "colab": {
          "base_uri": "https://localhost:8080/"
        },
        "id": "pJyWHx_zHLI7",
        "outputId": "188a1872-56e9-4e03-b26b-3f2569816cf3"
      },
      "execution_count": 37,
      "outputs": [
        {
          "name": "stdout",
          "output_type": "stream",
          "text": [
            "Digite o seu nome: Mario\n",
            "Digite a sua idade: 40\n",
            "Digite o seu peso (kg): 82\n",
            "Digite a sua altura (m): 1.82\n"
          ]
        }
      ]
    },
    {
      "cell_type": "markdown",
      "source": [
        "# Calculando o IMC"
      ],
      "metadata": {
        "id": "wwJ9k4hkIU0_"
      }
    },
    {
      "cell_type": "code",
      "source": [
        "imc = float(peso) / (float(altura) ** 2)"
      ],
      "metadata": {
        "id": "Tp2mdLwQKEKu"
      },
      "execution_count": 11,
      "outputs": []
    },
    {
      "cell_type": "code",
      "source": [
        "print(imc)"
      ],
      "metadata": {
        "colab": {
          "base_uri": "https://localhost:8080/"
        },
        "id": "kxZn5RY8KEhv",
        "outputId": "bf094895-aac0-4fd7-c92e-18bfca24a35e"
      },
      "execution_count": 40,
      "outputs": [
        {
          "output_type": "stream",
          "name": "stdout",
          "text": [
            "24.755464315903875\n"
          ]
        }
      ]
    },
    {
      "cell_type": "code",
      "source": [
        "# Exemplo: int e float antes do input\n",
        "nome = input('Digite o nome do(a) aluno(a): ')\n",
        "idade = int(input('Digite a idade do(a) aluno(a): '))\n",
        "peso = float(input('Digite o peso do(a) aluno(a) (kg): '))\n",
        "altura = float(input('Digite a altura do(a) aluno(a) (m): '))\n",
        "imc = peso / (altura**2)\n",
        "imc"
      ],
      "metadata": {
        "colab": {
          "base_uri": "https://localhost:8080/"
        },
        "id": "uP4vYCoRK80W",
        "outputId": "f3dcee71-38cf-442d-e087-6effaeaa48a7"
      },
      "execution_count": 13,
      "outputs": [
        {
          "name": "stdout",
          "output_type": "stream",
          "text": [
            "Digite o nome do(a) aluno(a): Mario\n",
            "Digite a idade do(a) aluno(a): 40\n",
            "Digite o peso do(a) aluno(a) (kg): 82\n",
            "Digite a altura do(a) aluno(a) (m): 1.82\n"
          ]
        },
        {
          "output_type": "execute_result",
          "data": {
            "text/plain": [
              "24.755464315903875"
            ]
          },
          "metadata": {},
          "execution_count": 13
        }
      ]
    },
    {
      "cell_type": "code",
      "source": [
        "# Arrendodar imc\n",
        "round(imc)"
      ],
      "metadata": {
        "colab": {
          "base_uri": "https://localhost:8080/"
        },
        "id": "_KsxSxmlQuWN",
        "outputId": "560d348e-4417-4a14-8c45-e724dab89d57"
      },
      "execution_count": 14,
      "outputs": [
        {
          "output_type": "execute_result",
          "data": {
            "text/plain": [
              "25"
            ]
          },
          "metadata": {},
          "execution_count": 14
        }
      ]
    },
    {
      "cell_type": "code",
      "source": [
        "# Arrendodar imc com 2 casas decimais\n",
        "round(imc,2)"
      ],
      "metadata": {
        "colab": {
          "base_uri": "https://localhost:8080/"
        },
        "id": "_XwakRIIQ4c7",
        "outputId": "f4fbf628-bd3a-4a6a-f60d-dd09936af746"
      },
      "execution_count": 15,
      "outputs": [
        {
          "output_type": "execute_result",
          "data": {
            "text/plain": [
              "24.76"
            ]
          },
          "metadata": {},
          "execution_count": 15
        }
      ]
    },
    {
      "cell_type": "markdown",
      "source": [
        "# Criando o status"
      ],
      "metadata": {
        "id": "XUOvTQQqI0oH"
      }
    },
    {
      "cell_type": "code",
      "source": [
        "status = 'Dentro do peso'\n",
        "if imc < 18.5:\n",
        "  status = 'Magreza'\n",
        "elif imc >= 18.5 and imc < 24.9:\n",
        "  status = 'Normal'\n",
        "elif imc >= 25 and imc < 29.9 :\n",
        "  status = 'Sobrepeso'\n",
        "elif imc >= 30.0 and imc < 39.9:\n",
        "  status = 'Obesidade'\n",
        "elif imc >= 40.0:\n",
        "  status = 'Obesidade Grave'"
      ],
      "metadata": {
        "id": "0Ofh9Oj_I5jj"
      },
      "execution_count": 16,
      "outputs": []
    },
    {
      "cell_type": "code",
      "source": [
        "print(status)"
      ],
      "metadata": {
        "colab": {
          "base_uri": "https://localhost:8080/"
        },
        "id": "CEmtxXQ5I6aX",
        "outputId": "8b3da52a-3f08-4eaa-bb56-0a204a784ef2"
      },
      "execution_count": 17,
      "outputs": [
        {
          "output_type": "stream",
          "name": "stdout",
          "text": [
            "Normal\n"
          ]
        }
      ]
    },
    {
      "cell_type": "markdown",
      "source": [
        "# Gerando o PDF"
      ],
      "metadata": {
        "id": "iyHAguOlKozg"
      }
    },
    {
      "cell_type": "code",
      "source": [
        "# As intalações do Colab são por seções, toda vez que fachar não vai ter esses arquivos"
      ],
      "metadata": {
        "id": "eIEAaOTQRaxc"
      },
      "execution_count": null,
      "outputs": []
    },
    {
      "cell_type": "code",
      "source": [
        "!pip install pdf_reports"
      ],
      "metadata": {
        "id": "r0mVFqQjKsut",
        "colab": {
          "base_uri": "https://localhost:8080/"
        },
        "outputId": "d967b08b-9b42-4653-ad59-1f4b982aa82b"
      },
      "execution_count": 19,
      "outputs": [
        {
          "output_type": "stream",
          "name": "stdout",
          "text": [
            "Installing collected packages: brotli, zopfli, pypugjs, Pyphen, pydyf, backports.functools-lru-cache, cssselect2, weasyprint, pdf_reports\n",
            "Successfully installed Pyphen-0.14.0 backports.functools-lru-cache-2.0.0 brotli-1.1.0 cssselect2-0.7.0 pdf_reports-0.3.5 pydyf-0.9.0 pypugjs-5.9.12 weasyprint-61.2 zopfli-0.2.3\n"
          ]
        }
      ]
    },
    {
      "cell_type": "code",
      "source": [
        "import pdf_reports"
      ],
      "metadata": {
        "id": "zbBzAYUbDZEf"
      },
      "execution_count": 20,
      "outputs": []
    },
    {
      "cell_type": "code",
      "source": [
        "dados_aluno = {\n",
        "    \"nome\": nome,\n",
        "    \"idade\": idade,\n",
        "    \"peso\": peso,\n",
        "    \"altura\": altura,\n",
        "    \"imc\": round(imc, 2),\n",
        "    \"status\": status\n",
        "}"
      ],
      "metadata": {
        "id": "KkgS1IUgDdMu"
      },
      "execution_count": 31,
      "outputs": []
    },
    {
      "cell_type": "code",
      "source": [
        "template = pdf_reports.pug_to_html('template.pug', dados = dados_aluno)"
      ],
      "metadata": {
        "id": "hd5jgwx7D5X2"
      },
      "execution_count": 35,
      "outputs": []
    },
    {
      "cell_type": "code",
      "source": [
        "pdf_reports.write_report(template, \"ficha_aluno.pdf\", use_default_styling=False)"
      ],
      "metadata": {
        "id": "fQMbUWzQE_f-"
      },
      "execution_count": 36,
      "outputs": []
    }
  ]
}